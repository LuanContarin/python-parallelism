{
  "cells": [
    {
      "cell_type": "markdown",
      "metadata": {
        "id": "zMQlnxjPLR1m"
      },
      "source": [
        "Author: Luan Contarin da Silva            RA: 2202082\n",
        "\n",
        "---\n",
        "\n",
        "This program aims to calculate the average height (in cm) for each NBA team, grouped by season (2022-23, etc.), using parallelism.\n",
        "\n",
        "For reference, the algorithm will utilize a data set available on Kaggle, which can be accessed through [this link](https://www.kaggle.com/datasets/justinas/nba-players-data)"
      ]
    },
    {
      "cell_type": "markdown",
      "metadata": {
        "id": "xRrklXiKMVFc"
      },
      "source": [
        "Importing the data file"
      ]
    },
    {
      "cell_type": "code",
      "execution_count": null,
      "metadata": {
        "id": "qQgZ20iC8uys"
      },
      "outputs": [],
      "source": [
        "import pandas as pd\n",
        "import os\n",
        "\n",
        "data_nba = pd.read_csv('all_seasons.csv')"
      ]
    },
    {
      "cell_type": "markdown",
      "metadata": {
        "id": "S1kuTFjMB3-1"
      },
      "source": [
        "Method responsible for calculating the average height of teams for each season"
      ]
    },
    {
      "cell_type": "code",
      "execution_count": null,
      "metadata": {
        "id": "6W2zg8GRQDrF"
      },
      "outputs": [],
      "source": [
        "def calculate_avg_height(year, season):\n",
        "  teams = season.groupby('team_abbreviation')\n",
        "  avg_height = teams['player_height'].mean()\n",
        "\n",
        "  return (year, avg_height)"
      ]
    },
    {
      "cell_type": "markdown",
      "metadata": {
        "id": "nfZI4kUGO7wm"
      },
      "source": [
        "Using the lib **joblib** to implement the parallelism and call the function \"calculate_avg_height\" for each season"
      ]
    },
    {
      "cell_type": "code",
      "execution_count": null,
      "metadata": {
        "colab": {
          "base_uri": "https://localhost:8080/"
        },
        "id": "KwpZOaMLN3yV",
        "outputId": "10e97eb7-c0f6-467d-da79-924ee50de3eb"
      },
      "outputs": [],
      "source": [
        "from joblib import Parallel, delayed\n",
        "import time\n",
        "\n",
        "seasons = data_nba.groupby('season')\n",
        "\n",
        "initial_time = time.time()\n",
        "results = Parallel(n_jobs=5)(delayed(calculate_avg_height)(year, season) for year, season in seasons)\n",
        "\n",
        "for year, result in results:\n",
        "  print(f'Season {year}')\n",
        "  for team, avg in result.items():\n",
        "    print(f'\\t{team} -> {avg:.2f}cm')\n",
        "\n",
        "print(f'Elapsed time: {time.time() - initial_time}')"
      ]
    }
  ],
  "metadata": {
    "colab": {
      "provenance": []
    },
    "kernelspec": {
      "display_name": "Python 3",
      "name": "python3"
    },
    "language_info": {
      "name": "python"
    }
  },
  "nbformat": 4,
  "nbformat_minor": 0
}
